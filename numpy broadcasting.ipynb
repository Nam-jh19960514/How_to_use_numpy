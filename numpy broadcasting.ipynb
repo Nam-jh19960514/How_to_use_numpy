{
 "cells": [
  {
   "cell_type": "code",
   "execution_count": 1,
   "metadata": {},
   "outputs": [],
   "source": [
    "import numpy as np"
   ]
  },
  {
   "cell_type": "code",
   "execution_count": 2,
   "metadata": {},
   "outputs": [
    {
     "ename": "ValueError",
     "evalue": "operands could not be broadcast together with shapes (3,) (4,) ",
     "output_type": "error",
     "traceback": [
      "\u001b[0;31m---------------------------------------------------------------------------\u001b[0m",
      "\u001b[0;31mValueError\u001b[0m                                Traceback (most recent call last)",
      "\u001b[0;32m<ipython-input-2-40d971f18cfa>\u001b[0m in \u001b[0;36m<module>\u001b[0;34m\u001b[0m\n\u001b[1;32m      2\u001b[0m \u001b[0mb\u001b[0m \u001b[0;34m=\u001b[0m \u001b[0mnp\u001b[0m\u001b[0;34m.\u001b[0m\u001b[0marray\u001b[0m\u001b[0;34m(\u001b[0m\u001b[0;34m[\u001b[0m\u001b[0;36m1\u001b[0m\u001b[0;34m,\u001b[0m \u001b[0;36m2\u001b[0m\u001b[0;34m,\u001b[0m \u001b[0;36m3\u001b[0m\u001b[0;34m,\u001b[0m \u001b[0;36m4\u001b[0m\u001b[0;34m]\u001b[0m\u001b[0;34m)\u001b[0m\u001b[0;34m\u001b[0m\u001b[0;34m\u001b[0m\u001b[0m\n\u001b[1;32m      3\u001b[0m \u001b[0;34m\u001b[0m\u001b[0m\n\u001b[0;32m----> 4\u001b[0;31m \u001b[0mprint\u001b[0m\u001b[0;34m(\u001b[0m\u001b[0ma\u001b[0m \u001b[0;34m+\u001b[0m \u001b[0mb\u001b[0m\u001b[0;34m)\u001b[0m\u001b[0;34m\u001b[0m\u001b[0;34m\u001b[0m\u001b[0m\n\u001b[0m",
      "\u001b[0;31mValueError\u001b[0m: operands could not be broadcast together with shapes (3,) (4,) "
     ]
    }
   ],
   "source": [
    "a = np.array([1, 2, 3])\n",
    "b = np.array([1, 2, 3, 4])\n",
    "\n",
    "print(a + b)"
   ]
  },
  {
   "cell_type": "code",
   "execution_count": 3,
   "metadata": {},
   "outputs": [
    {
     "name": "stdout",
     "output_type": "stream",
     "text": [
      "[2 3 4]\n"
     ]
    }
   ],
   "source": [
    "a1 = np.array([1, 2, 3])\n",
    "b1 = np.array([1])\n",
    "\n",
    "print(a1 + b1) # [2 3 4]"
   ]
  },
  {
   "cell_type": "code",
   "execution_count": 4,
   "metadata": {},
   "outputs": [
    {
     "name": "stdout",
     "output_type": "stream",
     "text": [
      "[[2 3 4]\n",
      " [5 6 7]]\n"
     ]
    }
   ],
   "source": [
    "a2 = np.array([[1, 2, 3], [4, 5, 6]])\n",
    "b2 = np.array([1, 1, 1])\n",
    "\n",
    "print(a2 + b2)\n",
    "# [[2 3 4]\n",
    "#  [5 6 7]]"
   ]
  },
  {
   "cell_type": "code",
   "execution_count": 5,
   "metadata": {},
   "outputs": [
    {
     "name": "stdout",
     "output_type": "stream",
     "text": [
      "(3,) + (1,) = (3,)\n",
      "(2, 3) + (3,) = (2, 3)\n"
     ]
    }
   ],
   "source": [
    "print(\"{} + {} = {}\".format(a1.shape, b1.shape, (a1+b1).shape)) # (3,) + (1,) = (3,)\n",
    "print(\"{} + {} = {}\".format(a2.shape, b2.shape, (a2+b2).shape)) # (2, 3) + (3,) = (2, 3)"
   ]
  },
  {
   "cell_type": "code",
   "execution_count": 6,
   "metadata": {},
   "outputs": [
    {
     "name": "stdout",
     "output_type": "stream",
     "text": [
      "[[2 3 4]\n",
      " [3 4 5]\n",
      " [4 5 6]]\n",
      "(1, 3) + (3, 1) = (3, 3)\n"
     ]
    }
   ],
   "source": [
    "a3 = np.array([[1, 2, 3]])\n",
    "b3 = np.array([[1], [2], [3]])\n",
    "\n",
    "print(a3 + b3)\n",
    "# [[2 3 4]\n",
    "#  [3 4 5]\n",
    "#  [4 5 6]]\n",
    "print(\"{} + {} = {}\".format(a3.shape, b3.shape, (a3+b3).shape)) # (1, 3) + (3, 1) = (3, 3)"
   ]
  },
  {
   "cell_type": "code",
   "execution_count": 7,
   "metadata": {},
   "outputs": [
    {
     "name": "stdout",
     "output_type": "stream",
     "text": [
      "[[[ 2  4  6]\n",
      "  [ 8 10 12]\n",
      "  [14 16 18]]\n",
      "\n",
      " [[11 13 15]\n",
      "  [17 19 21]\n",
      "  [23 25 27]]\n",
      "\n",
      " [[20 22 24]\n",
      "  [26 28 30]\n",
      "  [32 34 36]]]\n",
      "(3, 3, 3) + (3, 3) = (3, 3, 3)\n"
     ]
    }
   ],
   "source": [
    "a4 = np.arange(1, 28).reshape(3, 3, 3)\n",
    "b4 = np.arange(1, 10).reshape(3, 3)\n",
    "\n",
    "print(a4 + b4)\n",
    "# [[[ 2  4  6]\n",
    "#   [ 8 10 12]\n",
    "#   [14 16 18]]\n",
    "\n",
    "#  [[11 13 15]\n",
    "#   [17 19 21]\n",
    "#   [23 25 27]]\n",
    "\n",
    "#  [[20 22 24]\n",
    "#   [26 28 30]\n",
    "#   [32 34 36]]]\n",
    "print(\"{} + {} = {}\".format(a4.shape, b4.shape, (a4+b4).shape)) # (3, 3, 3) + (3, 3) = (3, 3, 3)"
   ]
  },
  {
   "cell_type": "code",
   "execution_count": 9,
   "metadata": {},
   "outputs": [
    {
     "name": "stdout",
     "output_type": "stream",
     "text": [
      "[[[ 2  3  4]\n",
      "  [ 6  7  8]\n",
      "  [10 11 12]]\n",
      "\n",
      " [[11 12 13]\n",
      "  [15 16 17]\n",
      "  [19 20 21]]\n",
      "\n",
      " [[20 21 22]\n",
      "  [24 25 26]\n",
      "  [28 29 30]]]\n",
      "(3, 3, 3) + (3, 1) = (3, 3, 3)\n"
     ]
    }
   ],
   "source": [
    "a5 = np.arange(1, 28).reshape(3, 3, 3)\n",
    "b5 = np.arange(1, 4).reshape(3, 1)\n",
    "\n",
    "print(a5 + b5)\n",
    "# [[[ 2  3  4]\n",
    "#   [ 6  7  8]\n",
    "#   [10 11 12]]\n",
    "\n",
    "#  [[11 12 13]\n",
    "#   [15 16 17]\n",
    "#   [19 20 21]]\n",
    "\n",
    "#  [[20 21 22]\n",
    "#   [24 25 26]\n",
    "#   [28 29 30]]]\n",
    "print(\"{} + {} = {}\".format(a5.shape, b5.shape, (a5+b5).shape)) # (3, 3, 3) + (3, 1) = (3, 3, 3)"
   ]
  },
  {
   "cell_type": "code",
   "execution_count": 12,
   "metadata": {},
   "outputs": [
    {
     "name": "stdout",
     "output_type": "stream",
     "text": [
      "[[1 2]\n",
      " [3 4]\n",
      " [5 6]]\n"
     ]
    },
    {
     "ename": "ValueError",
     "evalue": "operands could not be broadcast together with shapes (3,3,3) (3,2) ",
     "output_type": "error",
     "traceback": [
      "\u001b[0;31m---------------------------------------------------------------------------\u001b[0m",
      "\u001b[0;31mValueError\u001b[0m                                Traceback (most recent call last)",
      "\u001b[0;32m<ipython-input-12-fff7ee4326dd>\u001b[0m in \u001b[0;36m<module>\u001b[0;34m\u001b[0m\n\u001b[1;32m      2\u001b[0m \u001b[0mb6\u001b[0m \u001b[0;34m=\u001b[0m \u001b[0mnp\u001b[0m\u001b[0;34m.\u001b[0m\u001b[0marange\u001b[0m\u001b[0;34m(\u001b[0m\u001b[0;36m1\u001b[0m\u001b[0;34m,\u001b[0m \u001b[0;36m7\u001b[0m\u001b[0;34m)\u001b[0m\u001b[0;34m.\u001b[0m\u001b[0mreshape\u001b[0m\u001b[0;34m(\u001b[0m\u001b[0;36m3\u001b[0m\u001b[0;34m,\u001b[0m \u001b[0;36m2\u001b[0m\u001b[0;34m)\u001b[0m\u001b[0;34m\u001b[0m\u001b[0;34m\u001b[0m\u001b[0m\n\u001b[1;32m      3\u001b[0m \u001b[0mprint\u001b[0m\u001b[0;34m(\u001b[0m\u001b[0mb6\u001b[0m\u001b[0;34m)\u001b[0m\u001b[0;34m\u001b[0m\u001b[0;34m\u001b[0m\u001b[0m\n\u001b[0;32m----> 4\u001b[0;31m \u001b[0mprint\u001b[0m\u001b[0;34m(\u001b[0m\u001b[0ma6\u001b[0m \u001b[0;34m+\u001b[0m \u001b[0mb6\u001b[0m\u001b[0;34m)\u001b[0m\u001b[0;34m\u001b[0m\u001b[0;34m\u001b[0m\u001b[0m\n\u001b[0m",
      "\u001b[0;31mValueError\u001b[0m: operands could not be broadcast together with shapes (3,3,3) (3,2) "
     ]
    }
   ],
   "source": [
    "a6 = np.arange(1, 28).reshape(3, 3, 3)\n",
    "b6 = np.arange(1, 7).reshape(3, 2)\n",
    "\n",
    "print(a6 + b6)"
   ]
  },
  {
   "cell_type": "code",
   "execution_count": null,
   "metadata": {},
   "outputs": [],
   "source": []
  }
 ],
 "metadata": {
  "kernelspec": {
   "display_name": "Python 3",
   "language": "python",
   "name": "python3"
  },
  "language_info": {
   "codemirror_mode": {
    "name": "ipython",
    "version": 3
   },
   "file_extension": ".py",
   "mimetype": "text/x-python",
   "name": "python",
   "nbconvert_exporter": "python",
   "pygments_lexer": "ipython3",
   "version": "3.7.6"
  }
 },
 "nbformat": 4,
 "nbformat_minor": 4
}
