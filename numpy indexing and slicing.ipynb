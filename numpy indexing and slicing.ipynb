{
 "cells": [
  {
   "cell_type": "code",
   "execution_count": 50,
   "metadata": {},
   "outputs": [],
   "source": [
    "import numpy as np"
   ]
  },
  {
   "cell_type": "code",
   "execution_count": 51,
   "metadata": {},
   "outputs": [],
   "source": [
    "# 파이썬 리스트 indexing\n",
    "l = [1, 2, 3, 4, 5]"
   ]
  },
  {
   "cell_type": "code",
   "execution_count": 52,
   "metadata": {},
   "outputs": [
    {
     "name": "stdout",
     "output_type": "stream",
     "text": [
      "l[0] :  1\n",
      "l[1] :  2\n",
      "l[2] :  3\n",
      "l[3] :  4\n",
      "l[4] :  5\n"
     ]
    }
   ],
   "source": [
    "print(\"l[0] : \", l[0]) # 1\n",
    "print(\"l[1] : \", l[1]) # 2\n",
    "print(\"l[2] : \", l[2]) # 3\n",
    "print(\"l[3] : \", l[3]) # 4\n",
    "print(\"l[4] : \", l[4]) # 5"
   ]
  },
  {
   "cell_type": "code",
   "execution_count": 53,
   "metadata": {},
   "outputs": [
    {
     "ename": "IndexError",
     "evalue": "list index out of range",
     "output_type": "error",
     "traceback": [
      "\u001b[0;31m---------------------------------------------------------------------------\u001b[0m",
      "\u001b[0;31mIndexError\u001b[0m                                Traceback (most recent call last)",
      "\u001b[0;32m<ipython-input-53-99464b2f4852>\u001b[0m in \u001b[0;36m<module>\u001b[0;34m\u001b[0m\n\u001b[0;32m----> 1\u001b[0;31m \u001b[0mprint\u001b[0m\u001b[0;34m(\u001b[0m\u001b[0;34m\"l[5] : \"\u001b[0m\u001b[0;34m,\u001b[0m \u001b[0ml\u001b[0m\u001b[0;34m[\u001b[0m\u001b[0;36m5\u001b[0m\u001b[0;34m]\u001b[0m\u001b[0;34m)\u001b[0m\u001b[0;34m\u001b[0m\u001b[0;34m\u001b[0m\u001b[0m\n\u001b[0m",
      "\u001b[0;31mIndexError\u001b[0m: list index out of range"
     ]
    }
   ],
   "source": [
    "print(\"l[5] : \", l[5])"
   ]
  },
  {
   "cell_type": "code",
   "execution_count": 54,
   "metadata": {},
   "outputs": [
    {
     "name": "stdout",
     "output_type": "stream",
     "text": [
      "l[-1] :  5\n",
      "l[-2] :  4\n",
      "l[-3] :  3\n",
      "l[-4] :  2\n",
      "l[-5] :  1\n"
     ]
    }
   ],
   "source": [
    "print(\"l[-1] : \", l[-1]) # 5\n",
    "print(\"l[-2] : \", l[-2]) # 4\n",
    "print(\"l[-3] : \", l[-3]) # 3\n",
    "print(\"l[-4] : \", l[-4]) # 2\n",
    "print(\"l[-5] : \", l[-5]) # 1"
   ]
  },
  {
   "cell_type": "code",
   "execution_count": 55,
   "metadata": {},
   "outputs": [
    {
     "name": "stdout",
     "output_type": "stream",
     "text": [
      "l[-0] :  1\n",
      "l[0] :  1\n"
     ]
    }
   ],
   "source": [
    "print(\"l[-0] : \", l[-0]) # 1\n",
    "print(\"l[0] : \", l[0]) # 1"
   ]
  },
  {
   "cell_type": "code",
   "execution_count": 56,
   "metadata": {},
   "outputs": [],
   "source": [
    "# 파이썬 튜플 indexing\n",
    "t = (1, 2, 3, 4, 5)"
   ]
  },
  {
   "cell_type": "code",
   "execution_count": 57,
   "metadata": {},
   "outputs": [
    {
     "name": "stdout",
     "output_type": "stream",
     "text": [
      "t[0] :  1\n",
      "t[1] :  2\n",
      "t[2] :  3\n",
      "t[3] :  4\n",
      "t[4] :  5\n"
     ]
    }
   ],
   "source": [
    "print(\"t[0] : \", t[0]) # 1\n",
    "print(\"t[1] : \", t[1]) # 2\n",
    "print(\"t[2] : \", t[2]) # 3\n",
    "print(\"t[3] : \", t[3]) # 4\n",
    "print(\"t[4] : \", t[4]) # 5"
   ]
  },
  {
   "cell_type": "code",
   "execution_count": 58,
   "metadata": {},
   "outputs": [
    {
     "ename": "IndexError",
     "evalue": "tuple index out of range",
     "output_type": "error",
     "traceback": [
      "\u001b[0;31m---------------------------------------------------------------------------\u001b[0m",
      "\u001b[0;31mIndexError\u001b[0m                                Traceback (most recent call last)",
      "\u001b[0;32m<ipython-input-58-99028d27b346>\u001b[0m in \u001b[0;36m<module>\u001b[0;34m\u001b[0m\n\u001b[0;32m----> 1\u001b[0;31m \u001b[0mprint\u001b[0m\u001b[0;34m(\u001b[0m\u001b[0;34m\"t[5] : \"\u001b[0m\u001b[0;34m,\u001b[0m \u001b[0mt\u001b[0m\u001b[0;34m[\u001b[0m\u001b[0;36m5\u001b[0m\u001b[0;34m]\u001b[0m\u001b[0;34m)\u001b[0m\u001b[0;34m\u001b[0m\u001b[0;34m\u001b[0m\u001b[0m\n\u001b[0m",
      "\u001b[0;31mIndexError\u001b[0m: tuple index out of range"
     ]
    }
   ],
   "source": [
    "print(\"t[5] : \", t[5])"
   ]
  },
  {
   "cell_type": "code",
   "execution_count": 59,
   "metadata": {},
   "outputs": [
    {
     "name": "stdout",
     "output_type": "stream",
     "text": [
      "t[-1] :  5\n",
      "t[-2] :  4\n",
      "t[-3] :  3\n",
      "t[-4] :  2\n",
      "t[-5] :  1\n"
     ]
    }
   ],
   "source": [
    "print(\"t[-1] : \", t[-1]) # 5\n",
    "print(\"t[-2] : \", t[-2]) # 4\n",
    "print(\"t[-3] : \", t[-3]) # 3\n",
    "print(\"t[-4] : \", t[-4]) # 2\n",
    "print(\"t[-5] : \", t[-5]) # 1"
   ]
  },
  {
   "cell_type": "code",
   "execution_count": 60,
   "metadata": {},
   "outputs": [
    {
     "name": "stdout",
     "output_type": "stream",
     "text": [
      "t[-0] :  1\n",
      "t[0] :  1\n"
     ]
    }
   ],
   "source": [
    "print(\"t[-0] : \", t[-0]) # 1\n",
    "print(\"t[0] : \", t[0]) # 1"
   ]
  },
  {
   "cell_type": "code",
   "execution_count": 61,
   "metadata": {},
   "outputs": [
    {
     "data": {
      "text/plain": [
       "[2, 3]"
      ]
     },
     "execution_count": 61,
     "metadata": {},
     "output_type": "execute_result"
    }
   ],
   "source": [
    "l[1:3] # [2, 3]"
   ]
  },
  {
   "cell_type": "code",
   "execution_count": 62,
   "metadata": {},
   "outputs": [
    {
     "data": {
      "text/plain": [
       "[2, 3, 4]"
      ]
     },
     "execution_count": 62,
     "metadata": {},
     "output_type": "execute_result"
    }
   ],
   "source": [
    "l[1:4] # [2, 3, 4]"
   ]
  },
  {
   "cell_type": "code",
   "execution_count": 63,
   "metadata": {},
   "outputs": [
    {
     "name": "stdout",
     "output_type": "stream",
     "text": [
      "2번 인덱스부터 마지막 인덱스까지 =  [3, 4, 5]\n",
      "첫번째 인덱스부터 2번 인덱스까지 =  [1, 2, 3]\n",
      "모든 인덱스 =  [1, 2, 3, 4, 5]\n"
     ]
    }
   ],
   "source": [
    "print(\"2번 인덱스부터 마지막 인덱스까지 = \", l[2:]) # [3, 4, 5]\n",
    "print(\"첫번째 인덱스부터 2번 인덱스까지 = \", l[:3]) # [1, 2, 3]\n",
    "print(\"모든 인덱스 = \", l[:]) # [1, 2, 3, 4, 5]"
   ]
  },
  {
   "cell_type": "code",
   "execution_count": 64,
   "metadata": {},
   "outputs": [
    {
     "name": "stdout",
     "output_type": "stream",
     "text": [
      "[2, 4]\n",
      "[1, 3]\n",
      "[1, 3, 5]\n"
     ]
    }
   ],
   "source": [
    "print(l[1::2]) # [2, 4]\n",
    "print(l[:4:2]) # [1, 3]\n",
    "print(l[::2]) # [1, 3, 5]"
   ]
  },
  {
   "cell_type": "code",
   "execution_count": 65,
   "metadata": {},
   "outputs": [
    {
     "data": {
      "text/plain": [
       "[5, 4, 3, 2, 1]"
      ]
     },
     "execution_count": 65,
     "metadata": {},
     "output_type": "execute_result"
    }
   ],
   "source": [
    "l[::-1] # [5, 4, 3, 2, 1]"
   ]
  },
  {
   "cell_type": "code",
   "execution_count": 66,
   "metadata": {},
   "outputs": [
    {
     "name": "stdout",
     "output_type": "stream",
     "text": [
      "a[0] :  1\n",
      "a[1] :  2\n",
      "a[2] :  3\n",
      "a[3] :  4\n",
      "a[4] :  5\n",
      "a[-0] :  1\n",
      "a[-1] :  5\n",
      "a[-2] :  4\n",
      "a[-3] :  3\n",
      "a[-4] :  2\n"
     ]
    }
   ],
   "source": [
    "a = np.array([1, 2 , 3, 4, 5])\n",
    "\n",
    "print(\"a[0] : \", a[0]) # 1\n",
    "print(\"a[1] : \", a[1]) # 2\n",
    "print(\"a[2] : \", a[2]) # 3\n",
    "print(\"a[3] : \", a[3]) # 4\n",
    "print(\"a[4] : \", a[4]) # 5\n",
    "\n",
    "print(\"a[-0] : \", a[-0]) # 1\n",
    "print(\"a[-1] : \", a[-1]) # 5\n",
    "print(\"a[-2] : \", a[-2]) # 4\n",
    "print(\"a[-3] : \", a[-3]) # 3\n",
    "print(\"a[-4] : \", a[-4]) # 2"
   ]
  },
  {
   "cell_type": "code",
   "execution_count": 67,
   "metadata": {},
   "outputs": [
    {
     "ename": "IndexError",
     "evalue": "index 6 is out of bounds for axis 0 with size 5",
     "output_type": "error",
     "traceback": [
      "\u001b[0;31m---------------------------------------------------------------------------\u001b[0m",
      "\u001b[0;31mIndexError\u001b[0m                                Traceback (most recent call last)",
      "\u001b[0;32m<ipython-input-67-f7372c6db330>\u001b[0m in \u001b[0;36m<module>\u001b[0;34m\u001b[0m\n\u001b[0;32m----> 1\u001b[0;31m \u001b[0mprint\u001b[0m\u001b[0;34m(\u001b[0m\u001b[0;34m\"a[6] = \"\u001b[0m\u001b[0;34m,\u001b[0m \u001b[0ma\u001b[0m\u001b[0;34m[\u001b[0m\u001b[0;36m6\u001b[0m\u001b[0;34m]\u001b[0m\u001b[0;34m)\u001b[0m\u001b[0;34m\u001b[0m\u001b[0;34m\u001b[0m\u001b[0m\n\u001b[0m",
      "\u001b[0;31mIndexError\u001b[0m: index 6 is out of bounds for axis 0 with size 5"
     ]
    }
   ],
   "source": [
    "print(\"a[6] = \", a[6])"
   ]
  },
  {
   "cell_type": "code",
   "execution_count": 68,
   "metadata": {},
   "outputs": [
    {
     "data": {
      "text/plain": [
       "[3]"
      ]
     },
     "execution_count": 68,
     "metadata": {},
     "output_type": "execute_result"
    }
   ],
   "source": [
    "l[2:4:2]"
   ]
  },
  {
   "cell_type": "code",
   "execution_count": 69,
   "metadata": {},
   "outputs": [
    {
     "name": "stdout",
     "output_type": "stream",
     "text": [
      "[3 5 7]\n"
     ]
    }
   ],
   "source": [
    "b = np.arange(1, 10)\n",
    "print(b[2:7:2]) # [3 5 7]"
   ]
  },
  {
   "cell_type": "code",
   "execution_count": 70,
   "metadata": {},
   "outputs": [
    {
     "name": "stdout",
     "output_type": "stream",
     "text": [
      "[[ 1  2  3  4  5]\n",
      " [ 6  7  8  9 10]\n",
      " [11 12 13 14 15]]\n"
     ]
    }
   ],
   "source": [
    "c = np.arange(1, 16).reshape(3, 5)\n",
    "print(c)\n",
    "# [[ 1  2  3  4  5]\n",
    "#  [ 6  7  8  9 10]\n",
    "#  [11 12 13 14 15]]"
   ]
  },
  {
   "cell_type": "code",
   "execution_count": 71,
   "metadata": {},
   "outputs": [
    {
     "name": "stdout",
     "output_type": "stream",
     "text": [
      "c[0, 0] =  1\n",
      "c[0, 1] =  2\n",
      "c[0, 2] =  3\n",
      "c[0, 3] =  4\n",
      "c[0, 4] =  5\n",
      "c[1, 0] =  6\n",
      "c[1, 1] =  7\n",
      "c[1, 2] =  8\n",
      "c[1, 3] =  9\n",
      "c[1, 4] =  10\n",
      "c[2, 0] =  11\n",
      "c[2, 1] =  12\n",
      "c[2, 2] =  13\n",
      "c[2, 3] =  14\n",
      "c[2, 4] =  15\n"
     ]
    }
   ],
   "source": [
    "print(\"c[0, 0] = \", c[0, 0]) # 1\n",
    "print(\"c[0, 1] = \", c[0, 1]) # 2\n",
    "print(\"c[0, 2] = \", c[0, 2]) # 3\n",
    "print(\"c[0, 3] = \", c[0, 3]) # 4\n",
    "print(\"c[0, 4] = \", c[0, 4]) # 5\n",
    "print(\"c[1, 0] = \", c[1, 0]) # 6\n",
    "print(\"c[1, 1] = \", c[1, 1]) # 7\n",
    "print(\"c[1, 2] = \", c[1, 2]) # 8\n",
    "print(\"c[1, 3] = \", c[1, 3]) # 9\n",
    "print(\"c[1, 4] = \", c[1, 4]) # 10\n",
    "print(\"c[2, 0] = \", c[2, 0]) # 11\n",
    "print(\"c[2, 1] = \", c[2, 1]) # 12\n",
    "print(\"c[2, 2] = \", c[2, 2]) # 13\n",
    "print(\"c[2, 3] = \", c[2, 3]) # 14\n",
    "print(\"c[2, 4] = \", c[2, 4]) # 15"
   ]
  },
  {
   "cell_type": "code",
   "execution_count": 72,
   "metadata": {},
   "outputs": [
    {
     "name": "stdout",
     "output_type": "stream",
     "text": [
      "c[0, 0] = 1 c[0, 1] = 2 c[0, 2] = 3 c[0, 3] = 4 c[0, 4] = 5 \n",
      "c[1, 0] = 6 c[1, 1] = 7 c[1, 2] = 8 c[1, 3] = 9 c[1, 4] = 10 \n",
      "c[2, 0] = 11 c[2, 1] = 12 c[2, 2] = 13 c[2, 3] = 14 c[2, 4] = 15 \n"
     ]
    }
   ],
   "source": [
    "for i in range(c.shape[0]) :\n",
    "    for j in range(c.shape[1]) :\n",
    "        print(\"c[%d, %d] = %d\" % (i, j, c[i, j]), end=' ')\n",
    "    print()\n",
    "    \n",
    "# c[0, 0] = 1 c[0, 1] = 2 c[0, 2] = 3 c[0, 3] = 4 c[0, 4] = 5 \n",
    "# c[1, 0] = 6 c[1, 1] = 7 c[1, 2] = 8 c[1, 3] = 9 c[1, 4] = 10 \n",
    "# c[2, 0] = 11 c[2, 1] = 12 c[2, 2] = 13 c[2, 3] = 14 c[2, 4] = 15 "
   ]
  },
  {
   "cell_type": "code",
   "execution_count": 75,
   "metadata": {},
   "outputs": [
    {
     "name": "stdout",
     "output_type": "stream",
     "text": [
      "(3, 3, 3)\n",
      "[[[ 1  2  3]\n",
      "  [ 4  5  6]\n",
      "  [ 7  8  9]]\n",
      "\n",
      " [[10 11 12]\n",
      "  [13 14 15]\n",
      "  [16 17 18]]\n",
      "\n",
      " [[19 20 21]\n",
      "  [22 23 24]\n",
      "  [25 26 27]]]\n"
     ]
    }
   ],
   "source": [
    "d = np.arange(1, 28).reshape((3, 3, 3))\n",
    "print(d.shape) # (3, 3, 3)\n",
    "print(d)\n",
    "# [[[ 1  2  3]\n",
    "#   [ 4  5  6]\n",
    "#   [ 7  8  9]]\n",
    "\n",
    "#  [[10 11 12]\n",
    "#   [13 14 15]\n",
    "#   [16 17 18]]\n",
    "\n",
    "#  [[19 20 21]\n",
    "#   [22 23 24]\n",
    "#   [25 26 27]]]"
   ]
  },
  {
   "cell_type": "code",
   "execution_count": 78,
   "metadata": {},
   "outputs": [
    {
     "name": "stdout",
     "output_type": "stream",
     "text": [
      "d[0, 0, 0] =  1\n",
      "d[1, 1, 0] =  13\n",
      "d[2, 2, 0] =  25\n",
      "d[0, 2, 2] =  9\n",
      "d[1, 0, 1] =  11\n"
     ]
    }
   ],
   "source": [
    "print(\"d[0, 0, 0] = \", d[0, 0, 0]) # 1\n",
    "print(\"d[1, 1, 0] = \", d[1, 1, 0]) # 13\n",
    "print(\"d[2, 2, 0] = \", d[2, 2, 0]) # 25\n",
    "print(\"d[0, 2, 2] = \", d[0, 2, 2]) # 9\n",
    "print(\"d[1, 0, 1] = \", d[1, 0, 1]) # 11"
   ]
  },
  {
   "cell_type": "code",
   "execution_count": 81,
   "metadata": {},
   "outputs": [
    {
     "name": "stdout",
     "output_type": "stream",
     "text": [
      "[ 1  2  3  4  5  6  7  8  9 10]\n",
      "[1 3 7 9]\n"
     ]
    }
   ],
   "source": [
    "e = np.arange(1, 11)\n",
    "idx = np.array([0, 2, 6, 8])\n",
    "print(e) # [ 1  2  3  4  5  6  7  8  9 10]\n",
    "print(e[idx]) # [1 3 7 9]"
   ]
  },
  {
   "cell_type": "code",
   "execution_count": null,
   "metadata": {},
   "outputs": [],
   "source": []
  }
 ],
 "metadata": {
  "kernelspec": {
   "display_name": "Python 3",
   "language": "python",
   "name": "python3"
  },
  "language_info": {
   "codemirror_mode": {
    "name": "ipython",
    "version": 3
   },
   "file_extension": ".py",
   "mimetype": "text/x-python",
   "name": "python",
   "nbconvert_exporter": "python",
   "pygments_lexer": "ipython3",
   "version": "3.7.6"
  }
 },
 "nbformat": 4,
 "nbformat_minor": 4
}
