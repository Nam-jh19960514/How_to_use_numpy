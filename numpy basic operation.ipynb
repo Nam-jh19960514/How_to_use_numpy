{
 "cells": [
  {
   "cell_type": "markdown",
   "metadata": {},
   "source": [
    "# 넘파이 연산"
   ]
  },
  {
   "cell_type": "code",
   "execution_count": 2,
   "metadata": {},
   "outputs": [],
   "source": [
    "import numpy as np # 넘파이 라이브러리 로드"
   ]
  },
  {
   "cell_type": "markdown",
   "metadata": {},
   "source": [
    "## 1. 넘파이 기본 연산"
   ]
  },
  {
   "cell_type": "markdown",
   "metadata": {},
   "source": [
    "### 1.1 넘파이 사칙 연산"
   ]
  },
  {
   "cell_type": "code",
   "execution_count": 12,
   "metadata": {},
   "outputs": [
    {
     "name": "stdout",
     "output_type": "stream",
     "text": [
      "v1 + v2 =  [ 6  7  8  9 10]\n",
      "v1 - v2 =  [-4 -3 -2 -1  0]\n",
      "v1 * v2 =  [ 5 10 15 20 25]\n",
      "v1 / v2 =  [0.2 0.4 0.6 0.8 1. ]\n"
     ]
    }
   ],
   "source": [
    "# 벡터\n",
    "v1 = np.array([1, 2, 3, 4, 5])\n",
    "v2 = np.full_like(v1, 5)\n",
    "\n",
    "print(\"v1 + v2 = \", v1 + v2) # v1 + v2 =  [ 6  7  8  9 10]\n",
    "print(\"v1 - v2 = \", v1 - v2) # v1 - v2 =  [-4 -3 -2 -1  0]\n",
    "print(\"v1 * v2 = \", v1 * v2) # v1 * v2 =  [ 5 10 15 20 25]\n",
    "print(\"v1 / v2 = \", v1 / v2) # v1 / v2 =  [0.2 0.4 0.6 0.8 1. ]"
   ]
  },
  {
   "cell_type": "code",
   "execution_count": 13,
   "metadata": {},
   "outputs": [
    {
     "name": "stdout",
     "output_type": "stream",
     "text": [
      "m1 + m2 =  [[ 6  7  8]\n",
      " [ 9 10 11]\n",
      " [12 13 14]]\n",
      "m1 - m2 =  [[-4 -3 -2]\n",
      " [-1  0  1]\n",
      " [ 2  3  4]]\n",
      "m1 * m2 =  [[ 5 10 15]\n",
      " [20 25 30]\n",
      " [35 40 45]]\n",
      "m1 / m2 =  [[0.2 0.4 0.6]\n",
      " [0.8 1.  1.2]\n",
      " [1.4 1.6 1.8]]\n"
     ]
    }
   ],
   "source": [
    "# 행렬\n",
    "m1 = np.arange(1, 10).reshape(3, 3)\n",
    "m2 = np.full_like(m1, 5)\n",
    "\n",
    "print(\"m1 + m2 = \", m1 + m2) \n",
    "# m1 + m2 =  [[ 6  7  8]\n",
    "#  [ 9 10 11]\n",
    "#  [12 13 14]]\n",
    "print(\"m1 - m2 = \", m1 - m2)\n",
    "# m1 - m2 =  [[-4 -3 -2]\n",
    "#  [-1  0  1]\n",
    "#  [ 2  3  4]]\n",
    "print(\"m1 * m2 = \", m1 * m2) \n",
    "# m1 * m2 =  [[ 5 10 15]\n",
    "#  [20 25 30]\n",
    "#  [35 40 45]]\n",
    "print(\"m1 / m2 = \", m1 / m2)\n",
    "# m1 / m2 =  [[0.2 0.4 0.6]\n",
    "#  [0.8 1.  1.2]\n",
    "#  [1.4 1.6 1.8]]"
   ]
  },
  {
   "cell_type": "code",
   "execution_count": 15,
   "metadata": {},
   "outputs": [
    {
     "ename": "ValueError",
     "evalue": "operands could not be broadcast together with shapes (9,) (8,) ",
     "output_type": "error",
     "traceback": [
      "\u001b[0;31m---------------------------------------------------------------------------\u001b[0m",
      "\u001b[0;31mValueError\u001b[0m                                Traceback (most recent call last)",
      "\u001b[0;32m<ipython-input-15-b0d9c5e61116>\u001b[0m in \u001b[0;36m<module>\u001b[0;34m\u001b[0m\n\u001b[1;32m      3\u001b[0m \u001b[0mv2\u001b[0m \u001b[0;34m=\u001b[0m \u001b[0mnp\u001b[0m\u001b[0;34m.\u001b[0m\u001b[0marange\u001b[0m\u001b[0;34m(\u001b[0m\u001b[0;36m1\u001b[0m\u001b[0;34m,\u001b[0m \u001b[0;36m9\u001b[0m\u001b[0;34m)\u001b[0m\u001b[0;34m\u001b[0m\u001b[0;34m\u001b[0m\u001b[0m\n\u001b[1;32m      4\u001b[0m \u001b[0;34m\u001b[0m\u001b[0m\n\u001b[0;32m----> 5\u001b[0;31m \u001b[0mprint\u001b[0m\u001b[0;34m(\u001b[0m\u001b[0;34m\"v1 + v2 = \"\u001b[0m\u001b[0;34m,\u001b[0m \u001b[0mv1\u001b[0m \u001b[0;34m+\u001b[0m \u001b[0mv2\u001b[0m\u001b[0;34m)\u001b[0m\u001b[0;34m\u001b[0m\u001b[0;34m\u001b[0m\u001b[0m\n\u001b[0m",
      "\u001b[0;31mValueError\u001b[0m: operands could not be broadcast together with shapes (9,) (8,) "
     ]
    }
   ],
   "source": [
    "# 오류가 발생하는 코드\n",
    "v1 = np.arange(1, 10)\n",
    "v2 = np.arange(1, 9)\n",
    "\n",
    "print(\"v1 + v2 = \", v1 + v2)"
   ]
  },
  {
   "cell_type": "code",
   "execution_count": 20,
   "metadata": {},
   "outputs": [
    {
     "name": "stdout",
     "output_type": "stream",
     "text": [
      "v1 ** v2 =  [ 1 16 27 16]\n",
      "v1 // v2 =  [0 0 1 2]\n",
      "v1 % v2 =  [1 2 0 0]\n"
     ]
    }
   ],
   "source": [
    "# 벡터\n",
    "v1 = np.arange(1, 5)\n",
    "v2 = np.arange(5, 1, -1)\n",
    "\n",
    "print(\"v1 ** v2 = \", v1 ** v2) # v1 ** v2 =  [ 1 16 27 16]\n",
    "print(\"v1 // v2 = \", v1 // v2) # v1 // v2 =  [0 0 1 2]\n",
    "print(\"v1 % v2 = \", v1 % v2) # v1 % v2 =  [1 2 0 0]"
   ]
  },
  {
   "cell_type": "code",
   "execution_count": 21,
   "metadata": {},
   "outputs": [
    {
     "name": "stdout",
     "output_type": "stream",
     "text": [
      "m1 ** m2 =  [[    1   512  6561]\n",
      " [16384 15625  7776]\n",
      " [ 2401   512    81]]\n",
      "m1 // m2 =  [[0 0 0]\n",
      " [0 0 1]\n",
      " [1 2 4]]\n",
      "m1 % m2 =  [[1 2 3]\n",
      " [4 5 1]\n",
      " [3 2 1]]\n"
     ]
    }
   ],
   "source": [
    "# 행렬\n",
    "m1 = np.arange(1, 10).reshape(3, 3)\n",
    "m2 = np.arange(10, 1, -1).reshape(3, 3)\n",
    "\n",
    "print(\"m1 ** m2 = \", m1 ** m2) \n",
    "# m1 ** m2 =  [[    1   512  6561]\n",
    "#  [16384 15625  7776]\n",
    "#  [ 2401   512    81]]\n",
    "print(\"m1 // m2 = \", m1 // m2) \n",
    "# m1 // m2 =  [[0 0 0]\n",
    "#  [0 0 1]\n",
    "#  [1 2 4]]\n",
    "print(\"m1 % m2 = \", m1 % m2) \n",
    "# m1 % m2 =  [[1 2 3]\n",
    "#  [4 5 1]\n",
    "#  [3 2 1]]"
   ]
  },
  {
   "cell_type": "code",
   "execution_count": 9,
   "metadata": {},
   "outputs": [
    {
     "name": "stdout",
     "output_type": "stream",
     "text": [
      "sin_v = \n",
      " [ 0.84147098  0.90929743  0.14112001 -0.7568025  -0.95892427]\n",
      "cos_v = \n",
      " [ 0.54030231 -0.41614684 -0.9899925  -0.65364362  0.28366219]\n",
      "tan_v = \n",
      " [ 1.55740772 -2.18503986 -0.14254654  1.15782128 -3.38051501]\n",
      "arcsin_v = \n",
      " [0.         0.25268026 0.52359878 0.84806208 1.57079633]\n",
      "arccos_v = \n",
      " [1.57079633 1.31811607 1.04719755 0.72273425 0.        ]\n",
      "arctan_v = \n",
      " [0.         0.24497866 0.46364761 0.64350111 0.78539816]\n"
     ]
    }
   ],
   "source": [
    "# 벡터\n",
    "sin_v = np.sin(np.arange(1, 6))\n",
    "cos_v = np.cos(np.arange(1, 6))\n",
    "tan_v = np.tan(np.arange(1, 6))\n",
    "arcsin_v = np.arcsin(np.linspace(0, 1, 5))\n",
    "arccos_v = np.arccos(np.linspace(0, 1, 5))\n",
    "arctan_v = np.arctan(np.linspace(0, 1, 5))\n",
    "\n",
    "print(\"sin_v = \\n\", sin_v) # [ 0.84147098  0.90929743  0.14112001 -0.7568025  -0.95892427]\n",
    "print(\"cos_v = \\n\", cos_v) # [ 0.54030231 -0.41614684 -0.9899925  -0.65364362  0.28366219]\n",
    "print(\"tan_v = \\n\", tan_v) # [ 1.55740772 -2.18503986 -0.14254654  1.15782128 -3.38051501]\n",
    "print(\"arcsin_v = \\n\", arcsin_v) # [0.         0.25268026 0.52359878 0.84806208 1.57079633]\n",
    "print(\"arccos_v = \\n\", arccos_v) # [1.57079633 1.31811607 1.04719755 0.72273425 0.        ]\n",
    "print(\"arctan_v = \\n\", arctan_v) # [0.         0.24497866 0.46364761 0.64350111 0.78539816]"
   ]
  },
  {
   "cell_type": "code",
   "execution_count": 10,
   "metadata": {},
   "outputs": [
    {
     "name": "stdout",
     "output_type": "stream",
     "text": [
      "r1 = \n",
      " [[1. 1. 1. 1. 1.]\n",
      " [1. 1. 1. 1. 1.]]\n",
      "r2 = \n",
      " [[0. 0. 0. 0. 0.]\n",
      " [0. 0. 0. 0. 0.]]\n",
      "r3_int = \n",
      " [[1. 0. 0. 0. 0.]\n",
      " [1. 0. 1. 1. 0.]]\n",
      "r3_1 = \n",
      " [[0.6 0.2 0.1 0.9 1. ]\n",
      " [0.8 0.3 0.1 0.7 0.4]]\n",
      "r3_2 = \n",
      " [[0.12 0.5  0.03 0.91 0.26]\n",
      " [0.66 0.31 0.52 0.55 0.18]]\n",
      "r4 = \n",
      " [[1. 1. 1. 1. 1.]\n",
      " [1. 0. 0. 0. 0.]]\n"
     ]
    }
   ],
   "source": [
    "r1 = np.ceil(np.random.rand(2, 5))\n",
    "r2 = np.floor(np.random.rand(2, 5))\n",
    "r3_int = np.round(np.random.rand(2, 5))\n",
    "r3_1 = np.round(np.random.rand(2, 5), 1)\n",
    "r3_2 = np.round(np.random.rand(2, 5), 2)\n",
    "r4 = np.around(np.random.rand(2, 5))\n",
    "\n",
    "print(\"r1 = \\n\", r1)\n",
    "#  [[1. 1. 1. 1. 1.]\n",
    "#  [1. 1. 1. 1. 1.]]\n",
    "print(\"r2 = \\n\", r2)\n",
    "#  [[0. 0. 0. 0. 0.]\n",
    "#  [0. 0. 0. 0. 0.]]\n",
    "print(\"r3_int = \\n\", r3_int)\n",
    "#  [[1. 0. 1. 0. 0.]\n",
    "#  [0. 1. 0. 1. 1.]]\n",
    "print(\"r3_1 = \\n\", r3_1)\n",
    "#  [[0.3 1.  0.2 0.6 0.4]\n",
    "#  [0.5 0.  0.6 0.5 0.1]]\n",
    "print(\"r3_2 = \\n\", r3_2)\n",
    "#  [[0.44 0.08 0.14 0.87 0.07]\n",
    "#  [0.95 0.85 0.87 0.23 0.19]]\n",
    "print(\"r4 = \\n\", r4)\n",
    "#  [[1. 0. 0. 1. 0.]\n",
    "#  [0. 1. 0. 1. 0.]]"
   ]
  },
  {
   "cell_type": "code",
   "execution_count": 11,
   "metadata": {},
   "outputs": [
    {
     "name": "stdout",
     "output_type": "stream",
     "text": [
      "[  2.71828183   7.3890561   20.08553692  54.59815003 148.4131591 ]\n",
      "[ 2.  4.  8. 16. 32.]\n",
      "[  1.71828183   6.3890561   19.08553692  53.59815003 147.4131591 ]\n"
     ]
    }
   ],
   "source": [
    "np.random.seed(42)\n",
    "\n",
    "e1 = np.exp(np.arange(1, 6)) # np.exp([a, b, c]) = [exp(a), exp(b), exp(c)]\n",
    "e2 = np.exp2(np.arange(1, 6)) # np.exp2([a, b, c]) = [2^(a), 2^(b), 2^(c)]\n",
    "e3 = np.expm1(np.arange(1, 6)) # np.expm1([a, b, c]) = [e^(a)-1, e^(b)-1, e^(c)-1]\n",
    "\n",
    "print(e1) # [  2.71828183   7.3890561   20.08553692  54.59815003 148.4131591 ]\n",
    "print(e2) # [ 2.  4.  8. 16. 32.]\n",
    "print(e3) # "
   ]
  },
  {
   "cell_type": "code",
   "execution_count": 12,
   "metadata": {},
   "outputs": [
    {
     "name": "stdout",
     "output_type": "stream",
     "text": [
      "[0.         0.69314718 1.09861229 1.38629436 1.60943791]\n",
      "[0.         0.30103    0.47712125 0.60205999 0.69897   ]\n",
      "[0.         1.         1.5849625  2.         2.32192809]\n",
      "[0.69314718 1.09861229 1.38629436 1.60943791 1.79175947]\n"
     ]
    }
   ],
   "source": [
    "np.random.seed(42)\n",
    "\n",
    "l1 = np.log(np.arange(1, 6)) # np.log([a, b, c]) = [ln(a), ln(b), ln(c)]\n",
    "l2 = np.log10(np.arange(1, 6)) # np.log10([a, b, c]) = [log_10(a), log_10(b), log_10(c)]\n",
    "l3 = np.log2(np.arange(1, 6)) # np.log2([a, b, c]) = [log_2(a), log_2(b), log_2(c)]\n",
    "l4 = np.log1p(np.arange(1, 6)) # np.expm1([a, b, c]) = [ln(a+1), ln(b+1), ln(c+1)]\n",
    "\n",
    "print(l1) # [0.         0.69314718 1.09861229 1.38629436 1.60943791]\n",
    "print(l2) # [0.         0.30103    0.47712125 0.60205999 0.69897   ]\n",
    "print(l3) # [0.         1.         1.5849625  2.         2.32192809]\n",
    "print(l4) # [0.69314718 1.09861229 1.38629436 1.60943791 1.79175947]"
   ]
  },
  {
   "cell_type": "code",
   "execution_count": 2,
   "metadata": {},
   "outputs": [
    {
     "name": "stdout",
     "output_type": "stream",
     "text": [
      "[1.         1.41421356 1.73205081 2.         2.23606798]\n",
      "[ 1  4  9 16 25]\n"
     ]
    }
   ],
   "source": [
    "np.random.seed(42)\n",
    "\n",
    "s1 = np.sqrt(np.arange(1, 6)) # np.log([a, b, c]) = [ln(a), ln(b), ln(c)]\n",
    "s2 = np.square(np.arange(1, 6)) # np.log10([a, b, c]) = [log_10(a), log_10(b), log_10(c)]\n",
    "\n",
    "print(s1) # [1.         1.41421356 1.73205081 2.         2.23606798]\n",
    "print(s2) # [ 1  4  9 16 25]"
   ]
  },
  {
   "cell_type": "code",
   "execution_count": null,
   "metadata": {},
   "outputs": [],
   "source": []
  },
  {
   "cell_type": "code",
   "execution_count": null,
   "metadata": {},
   "outputs": [],
   "source": []
  },
  {
   "cell_type": "code",
   "execution_count": null,
   "metadata": {},
   "outputs": [],
   "source": []
  }
 ],
 "metadata": {
  "kernelspec": {
   "display_name": "Python 3",
   "language": "python",
   "name": "python3"
  },
  "language_info": {
   "codemirror_mode": {
    "name": "ipython",
    "version": 3
   },
   "file_extension": ".py",
   "mimetype": "text/x-python",
   "name": "python",
   "nbconvert_exporter": "python",
   "pygments_lexer": "ipython3",
   "version": "3.7.4"
  }
 },
 "nbformat": 4,
 "nbformat_minor": 4
}
