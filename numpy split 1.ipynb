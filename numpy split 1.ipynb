{
 "cells": [
  {
   "cell_type": "code",
   "execution_count": 20,
   "metadata": {},
   "outputs": [],
   "source": [
    "import numpy as np"
   ]
  },
  {
   "cell_type": "code",
   "execution_count": 21,
   "metadata": {},
   "outputs": [
    {
     "data": {
      "text/plain": [
       "[array([0., 1., 2.]), array([3., 4., 5.]), array([6., 7., 8.])]"
      ]
     },
     "execution_count": 21,
     "metadata": {},
     "output_type": "execute_result"
    }
   ],
   "source": [
    "x = np.arange(9.0)\n",
    "\n",
    "np.split(x, 3)\n",
    "# [array([0., 1., 2.]), array([3., 4., 5.]), array([6., 7., 8.])]"
   ]
  },
  {
   "cell_type": "code",
   "execution_count": 22,
   "metadata": {},
   "outputs": [
    {
     "ename": "ValueError",
     "evalue": "array split does not result in an equal division",
     "output_type": "error",
     "traceback": [
      "\u001b[0;31m---------------------------------------------------------------------------\u001b[0m",
      "\u001b[0;31mTypeError\u001b[0m                                 Traceback (most recent call last)",
      "\u001b[0;32m~/anaconda3/lib/python3.7/site-packages/numpy/lib/shape_base.py\u001b[0m in \u001b[0;36msplit\u001b[0;34m(ary, indices_or_sections, axis)\u001b[0m\n\u001b[1;32m    864\u001b[0m     \u001b[0;32mtry\u001b[0m\u001b[0;34m:\u001b[0m\u001b[0;34m\u001b[0m\u001b[0;34m\u001b[0m\u001b[0m\n\u001b[0;32m--> 865\u001b[0;31m         \u001b[0mlen\u001b[0m\u001b[0;34m(\u001b[0m\u001b[0mindices_or_sections\u001b[0m\u001b[0;34m)\u001b[0m\u001b[0;34m\u001b[0m\u001b[0;34m\u001b[0m\u001b[0m\n\u001b[0m\u001b[1;32m    866\u001b[0m     \u001b[0;32mexcept\u001b[0m \u001b[0mTypeError\u001b[0m\u001b[0;34m:\u001b[0m\u001b[0;34m\u001b[0m\u001b[0;34m\u001b[0m\u001b[0m\n",
      "\u001b[0;31mTypeError\u001b[0m: object of type 'int' has no len()",
      "\nDuring handling of the above exception, another exception occurred:\n",
      "\u001b[0;31mValueError\u001b[0m                                Traceback (most recent call last)",
      "\u001b[0;32m<ipython-input-22-890033cfcb97>\u001b[0m in \u001b[0;36m<module>\u001b[0;34m\u001b[0m\n\u001b[0;32m----> 1\u001b[0;31m \u001b[0mnp\u001b[0m\u001b[0;34m.\u001b[0m\u001b[0msplit\u001b[0m\u001b[0;34m(\u001b[0m\u001b[0mx\u001b[0m\u001b[0;34m,\u001b[0m \u001b[0;36m4\u001b[0m\u001b[0;34m)\u001b[0m\u001b[0;34m\u001b[0m\u001b[0;34m\u001b[0m\u001b[0m\n\u001b[0m\u001b[1;32m      2\u001b[0m \u001b[0;31m# ---------------------------------------------------------------------------\u001b[0m\u001b[0;34m\u001b[0m\u001b[0;34m\u001b[0m\u001b[0;34m\u001b[0m\u001b[0m\n\u001b[1;32m      3\u001b[0m \u001b[0;31m# TypeError                                 Traceback (most recent call last)\u001b[0m\u001b[0;34m\u001b[0m\u001b[0;34m\u001b[0m\u001b[0;34m\u001b[0m\u001b[0m\n\u001b[1;32m      4\u001b[0m \u001b[0;31m# ~/anaconda3/lib/python3.7/site-packages/numpy/lib/shape_base.py in split(ary, indices_or_sections, axis)\u001b[0m\u001b[0;34m\u001b[0m\u001b[0;34m\u001b[0m\u001b[0;34m\u001b[0m\u001b[0m\n\u001b[1;32m      5\u001b[0m \u001b[0;31m#     864     try:\u001b[0m\u001b[0;34m\u001b[0m\u001b[0;34m\u001b[0m\u001b[0;34m\u001b[0m\u001b[0m\n",
      "\u001b[0;32m<__array_function__ internals>\u001b[0m in \u001b[0;36msplit\u001b[0;34m(*args, **kwargs)\u001b[0m\n",
      "\u001b[0;32m~/anaconda3/lib/python3.7/site-packages/numpy/lib/shape_base.py\u001b[0m in \u001b[0;36msplit\u001b[0;34m(ary, indices_or_sections, axis)\u001b[0m\n\u001b[1;32m    869\u001b[0m         \u001b[0;32mif\u001b[0m \u001b[0mN\u001b[0m \u001b[0;34m%\u001b[0m \u001b[0msections\u001b[0m\u001b[0;34m:\u001b[0m\u001b[0;34m\u001b[0m\u001b[0;34m\u001b[0m\u001b[0m\n\u001b[1;32m    870\u001b[0m             raise ValueError(\n\u001b[0;32m--> 871\u001b[0;31m                 'array split does not result in an equal division')\n\u001b[0m\u001b[1;32m    872\u001b[0m     \u001b[0;32mreturn\u001b[0m \u001b[0marray_split\u001b[0m\u001b[0;34m(\u001b[0m\u001b[0mary\u001b[0m\u001b[0;34m,\u001b[0m \u001b[0mindices_or_sections\u001b[0m\u001b[0;34m,\u001b[0m \u001b[0maxis\u001b[0m\u001b[0;34m)\u001b[0m\u001b[0;34m\u001b[0m\u001b[0;34m\u001b[0m\u001b[0m\n\u001b[1;32m    873\u001b[0m \u001b[0;34m\u001b[0m\u001b[0m\n",
      "\u001b[0;31mValueError\u001b[0m: array split does not result in an equal division"
     ]
    }
   ],
   "source": [
    "np.split(x, 4)\n",
    "# ---------------------------------------------------------------------------\n",
    "# TypeError                                 Traceback (most recent call last)\n",
    "# ~/anaconda3/lib/python3.7/site-packages/numpy/lib/shape_base.py in split(ary, indices_or_sections, axis)\n",
    "#     864     try:\n",
    "# --> 865         len(indices_or_sections)\n",
    "#     866     except TypeError:\n",
    "\n",
    "# TypeError: object of type 'int' has no len()\n",
    "\n",
    "# During handling of the above exception, another exception occurred:\n",
    "\n",
    "# ValueError                                Traceback (most recent call last)\n",
    "# <ipython-input-5-ff48ec4c4c29> in <module>\n",
    "# ----> 1 np.split(x, 4)\n",
    "#       2 # [array([0., 1., 2.]), array([3., 4., 5.]), array([6., 7., 8.])]\n",
    "\n",
    "# <__array_function__ internals> in split(*args, **kwargs)\n",
    "\n",
    "# ~/anaconda3/lib/python3.7/site-packages/numpy/lib/shape_base.py in split(ary, indices_or_sections, axis)\n",
    "#     869         if N % sections:\n",
    "#     870             raise ValueError(\n",
    "# --> 871                 'array split does not result in an equal division')\n",
    "#     872     return array_split(ary, indices_or_sections, axis)\n",
    "#     873 \n",
    "\n",
    "# ValueError: array split does not result in an equal division"
   ]
  },
  {
   "cell_type": "code",
   "execution_count": 27,
   "metadata": {},
   "outputs": [
    {
     "data": {
      "text/plain": [
       "[array([0., 1.]), array([2.]), array([3., 4., 5., 6., 7.])]"
      ]
     },
     "execution_count": 27,
     "metadata": {},
     "output_type": "execute_result"
    }
   ],
   "source": [
    "np.split(x, (2, 3))\n",
    "# [array([0., 1.]), array([2.]), array([3., 4., 5., 6., 7., 8.])]"
   ]
  },
  {
   "cell_type": "code",
   "execution_count": 24,
   "metadata": {},
   "outputs": [
    {
     "data": {
      "text/plain": [
       "[array([0., 1., 2.]),\n",
       " array([3., 4.]),\n",
       " array([5.]),\n",
       " array([6., 7.]),\n",
       " array([], dtype=float64)]"
      ]
     },
     "execution_count": 24,
     "metadata": {},
     "output_type": "execute_result"
    }
   ],
   "source": [
    "x = np.arange(8.0)\n",
    "\n",
    "np.split(x, [3, 5, 6, 10])\n",
    "# [array([0., 1., 2.]),\n",
    "#  array([3., 4.]),\n",
    "#  array([5.]),\n",
    "#  array([6., 7.]),\n",
    "#  array([], dtype=float64)]"
   ]
  },
  {
   "cell_type": "code",
   "execution_count": 28,
   "metadata": {},
   "outputs": [
    {
     "data": {
      "text/plain": [
       "[array([[0.],\n",
       "        [3.],\n",
       "        [6.]]),\n",
       " array([[1.],\n",
       "        [4.],\n",
       "        [7.]]),\n",
       " array([[2.],\n",
       "        [5.],\n",
       "        [8.]])]"
      ]
     },
     "execution_count": 28,
     "metadata": {},
     "output_type": "execute_result"
    }
   ],
   "source": [
    "x = np.arange(9.0).reshape(3, 3)\n",
    "\n",
    "np.split(x, 3)\n",
    "# [array([[0., 1., 2.]]), array([[3., 4., 5.]]), array([[6., 7., 8.]])]\n",
    "\n",
    "np.split(x, 3, axis=1)\n",
    "# [array([[0.],\n",
    "#         [3.],\n",
    "#         [6.]]),\n",
    "#  array([[1.],\n",
    "#         [4.],\n",
    "#         [7.]]),\n",
    "#  array([[2.],\n",
    "#         [5.],\n",
    "#         [8.]])]"
   ]
  },
  {
   "cell_type": "code",
   "execution_count": 29,
   "metadata": {},
   "outputs": [
    {
     "ename": "ValueError",
     "evalue": "array split does not result in an equal division",
     "output_type": "error",
     "traceback": [
      "\u001b[0;31m---------------------------------------------------------------------------\u001b[0m",
      "\u001b[0;31mTypeError\u001b[0m                                 Traceback (most recent call last)",
      "\u001b[0;32m~/anaconda3/lib/python3.7/site-packages/numpy/lib/shape_base.py\u001b[0m in \u001b[0;36msplit\u001b[0;34m(ary, indices_or_sections, axis)\u001b[0m\n\u001b[1;32m    864\u001b[0m     \u001b[0;32mtry\u001b[0m\u001b[0;34m:\u001b[0m\u001b[0;34m\u001b[0m\u001b[0;34m\u001b[0m\u001b[0m\n\u001b[0;32m--> 865\u001b[0;31m         \u001b[0mlen\u001b[0m\u001b[0;34m(\u001b[0m\u001b[0mindices_or_sections\u001b[0m\u001b[0;34m)\u001b[0m\u001b[0;34m\u001b[0m\u001b[0;34m\u001b[0m\u001b[0m\n\u001b[0m\u001b[1;32m    866\u001b[0m     \u001b[0;32mexcept\u001b[0m \u001b[0mTypeError\u001b[0m\u001b[0;34m:\u001b[0m\u001b[0;34m\u001b[0m\u001b[0;34m\u001b[0m\u001b[0m\n",
      "\u001b[0;31mTypeError\u001b[0m: object of type 'int' has no len()",
      "\nDuring handling of the above exception, another exception occurred:\n",
      "\u001b[0;31mValueError\u001b[0m                                Traceback (most recent call last)",
      "\u001b[0;32m<ipython-input-29-1e827b4094ee>\u001b[0m in \u001b[0;36m<module>\u001b[0;34m\u001b[0m\n\u001b[0;32m----> 1\u001b[0;31m \u001b[0mnp\u001b[0m\u001b[0;34m.\u001b[0m\u001b[0msplit\u001b[0m\u001b[0;34m(\u001b[0m\u001b[0mx\u001b[0m\u001b[0;34m,\u001b[0m \u001b[0;36m4\u001b[0m\u001b[0;34m,\u001b[0m \u001b[0maxis\u001b[0m\u001b[0;34m=\u001b[0m\u001b[0;36m1\u001b[0m\u001b[0;34m)\u001b[0m\u001b[0;34m\u001b[0m\u001b[0;34m\u001b[0m\u001b[0m\n\u001b[0m",
      "\u001b[0;32m<__array_function__ internals>\u001b[0m in \u001b[0;36msplit\u001b[0;34m(*args, **kwargs)\u001b[0m\n",
      "\u001b[0;32m~/anaconda3/lib/python3.7/site-packages/numpy/lib/shape_base.py\u001b[0m in \u001b[0;36msplit\u001b[0;34m(ary, indices_or_sections, axis)\u001b[0m\n\u001b[1;32m    869\u001b[0m         \u001b[0;32mif\u001b[0m \u001b[0mN\u001b[0m \u001b[0;34m%\u001b[0m \u001b[0msections\u001b[0m\u001b[0;34m:\u001b[0m\u001b[0;34m\u001b[0m\u001b[0;34m\u001b[0m\u001b[0m\n\u001b[1;32m    870\u001b[0m             raise ValueError(\n\u001b[0;32m--> 871\u001b[0;31m                 'array split does not result in an equal division')\n\u001b[0m\u001b[1;32m    872\u001b[0m     \u001b[0;32mreturn\u001b[0m \u001b[0marray_split\u001b[0m\u001b[0;34m(\u001b[0m\u001b[0mary\u001b[0m\u001b[0;34m,\u001b[0m \u001b[0mindices_or_sections\u001b[0m\u001b[0;34m,\u001b[0m \u001b[0maxis\u001b[0m\u001b[0;34m)\u001b[0m\u001b[0;34m\u001b[0m\u001b[0;34m\u001b[0m\u001b[0m\n\u001b[1;32m    873\u001b[0m \u001b[0;34m\u001b[0m\u001b[0m\n",
      "\u001b[0;31mValueError\u001b[0m: array split does not result in an equal division"
     ]
    }
   ],
   "source": [
    "np.split(x, 4, axis=1)"
   ]
  },
  {
   "cell_type": "code",
   "execution_count": 31,
   "metadata": {},
   "outputs": [
    {
     "data": {
      "text/plain": [
       "[array([[0., 1., 2.]]),\n",
       " array([[3., 4., 5.],\n",
       "        [6., 7., 8.]]),\n",
       " array([], shape=(0, 3), dtype=float64)]"
      ]
     },
     "execution_count": 31,
     "metadata": {},
     "output_type": "execute_result"
    }
   ],
   "source": [
    "np.split(x, (1, 4))\n",
    "# [array([[0., 1., 2.]]),\n",
    "#  array([[3., 4., 5.],\n",
    "#         [6., 7., 8.]]),\n",
    "#  array([], shape=(0, 3), dtype=float64)]"
   ]
  },
  {
   "cell_type": "code",
   "execution_count": 30,
   "metadata": {},
   "outputs": [
    {
     "data": {
      "text/plain": [
       "[array([[0.],\n",
       "        [3.],\n",
       "        [6.]]),\n",
       " array([[1., 2.],\n",
       "        [4., 5.],\n",
       "        [7., 8.]]),\n",
       " array([], shape=(3, 0), dtype=float64)]"
      ]
     },
     "execution_count": 30,
     "metadata": {},
     "output_type": "execute_result"
    }
   ],
   "source": [
    "np.split(x, (1, 4), axis=1)\n",
    "# [array([[0.],\n",
    "#         [3.],\n",
    "#         [6.]]),\n",
    "#  array([[1., 2.],\n",
    "#         [4., 5.],\n",
    "#         [7., 8.]]),\n",
    "#  array([], shape=(3, 0), dtype=float64)]"
   ]
  },
  {
   "cell_type": "code",
   "execution_count": 32,
   "metadata": {},
   "outputs": [
    {
     "data": {
      "text/plain": [
       "[array([0., 1., 2., 3., 4.]),\n",
       " array([], dtype=float64),\n",
       " array([3., 4., 5.]),\n",
       " array([6., 7.]),\n",
       " array([], dtype=float64)]"
      ]
     },
     "execution_count": 32,
     "metadata": {},
     "output_type": "execute_result"
    }
   ],
   "source": [
    "x = np.arange(8.0)\n",
    "\n",
    "np.split(x, [5, 3, 6, 10])\n",
    "# [array([0., 1., 2., 3., 4.]),\n",
    "#  array([], dtype=float64),\n",
    "#  array([3., 4., 5.]),\n",
    "#  array([6., 7.]),\n",
    "#  array([], dtype=float64)]"
   ]
  },
  {
   "cell_type": "code",
   "execution_count": 33,
   "metadata": {},
   "outputs": [
    {
     "data": {
      "text/plain": [
       "[array([[0.],\n",
       "        [3.],\n",
       "        [6.]]),\n",
       " array([[1.],\n",
       "        [4.],\n",
       "        [7.]]),\n",
       " array([[2.],\n",
       "        [5.],\n",
       "        [8.]])]"
      ]
     },
     "execution_count": 33,
     "metadata": {},
     "output_type": "execute_result"
    }
   ],
   "source": [
    "x = np.arange(9.0).reshape(3, 3)\n",
    "\n",
    "np.hsplit(x, 3)\n",
    "# [array([[0.],\n",
    "#         [3.],\n",
    "#         [6.]]),\n",
    "#  array([[1.],\n",
    "#         [4.],\n",
    "#         [7.]]),\n",
    "#  array([[2.],\n",
    "#         [5.],\n",
    "#         [8.]])]\n",
    "\n",
    "np.split(x, 3, axis=1)\n",
    "# [array([[0.],\n",
    "#         [3.],\n",
    "#         [6.]]),\n",
    "#  array([[1.],\n",
    "#         [4.],\n",
    "#         [7.]]),\n",
    "#  array([[2.],\n",
    "#         [5.],\n",
    "#         [8.]])]"
   ]
  },
  {
   "cell_type": "code",
   "execution_count": 35,
   "metadata": {},
   "outputs": [
    {
     "data": {
      "text/plain": [
       "[array([[0., 1., 2.]]), array([[3., 4., 5.]]), array([[6., 7., 8.]])]"
      ]
     },
     "execution_count": 35,
     "metadata": {},
     "output_type": "execute_result"
    }
   ],
   "source": [
    "x = np.arange(9.0).reshape(3, 3)\n",
    "\n",
    "np.vsplit(x, 3)\n",
    "# [array([[0., 1., 2.]]), array([[3., 4., 5.]]), array([[6., 7., 8.]])]\n",
    "\n",
    "np.split(x, 3, axis=0)\n",
    "# [array([[0., 1., 2.]]), array([[3., 4., 5.]]), array([[6., 7., 8.]])]"
   ]
  },
  {
   "cell_type": "code",
   "execution_count": 38,
   "metadata": {},
   "outputs": [
    {
     "data": {
      "text/plain": [
       "[array([[[ 0.,  1.],\n",
       "         [ 4.,  5.]],\n",
       " \n",
       "        [[ 8.,  9.],\n",
       "         [12., 13.]]]),\n",
       " array([[[ 2.,  3.],\n",
       "         [ 6.,  7.]],\n",
       " \n",
       "        [[10., 11.],\n",
       "         [14., 15.]]])]"
      ]
     },
     "execution_count": 38,
     "metadata": {},
     "output_type": "execute_result"
    }
   ],
   "source": [
    "x = np.arange(16.0).reshape(2, 2, 4)\n",
    "\n",
    "np.dsplit(x, 2)\n",
    "# [array([[[ 0.,  1.],\n",
    "#          [ 4.,  5.]],\n",
    " \n",
    "#         [[ 8.,  9.],\n",
    "#          [12., 13.]]]),\n",
    "#  array([[[ 2.,  3.],\n",
    "#          [ 6.,  7.]],\n",
    " \n",
    "#         [[10., 11.],\n",
    "#          [14., 15.]]])]\n",
    "\n",
    "np.split(x, 2, axis=2)\n",
    "# [array([[[ 0.,  1.],\n",
    "#          [ 4.,  5.]],\n",
    " \n",
    "#         [[ 8.,  9.],\n",
    "#          [12., 13.]]]),\n",
    "#  array([[[ 2.,  3.],\n",
    "#          [ 6.,  7.]],\n",
    " \n",
    "#         [[10., 11.],\n",
    "#          [14., 15.]]])]"
   ]
  },
  {
   "cell_type": "code",
   "execution_count": null,
   "metadata": {},
   "outputs": [],
   "source": []
  }
 ],
 "metadata": {
  "kernelspec": {
   "display_name": "Python 3",
   "language": "python",
   "name": "python3"
  },
  "language_info": {
   "codemirror_mode": {
    "name": "ipython",
    "version": 3
   },
   "file_extension": ".py",
   "mimetype": "text/x-python",
   "name": "python",
   "nbconvert_exporter": "python",
   "pygments_lexer": "ipython3",
   "version": "3.7.6"
  }
 },
 "nbformat": 4,
 "nbformat_minor": 4
}
