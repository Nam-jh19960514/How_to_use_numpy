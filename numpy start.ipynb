{
 "cells": [
  {
   "cell_type": "code",
   "execution_count": 1,
   "metadata": {},
   "outputs": [],
   "source": [
    "import numpy as np"
   ]
  },
  {
   "cell_type": "code",
   "execution_count": 10,
   "metadata": {},
   "outputs": [],
   "source": [
    "v1 = np.array([1, 2, 3]) # = <1, 2, 3>\n",
    "v2 = np.array([1, 2, 3, 4, 5, 6, 7, 8, 9, 10]) # = <1, 2, 3, 4, 5 ,6, 7, 8, 9, 10>\n",
    "\n",
    "m1 = np.array([[1, 2, 3], [4, 5, 6]]) \n",
    "# [[1, 2, 3],\n",
    "#  [4, 5, 6]]\n",
    "\n",
    "m2 = np.array([[1, 2, 3, 4, 5], [7, 8, 9, 10, 11]]) \n",
    "# [[ 1,  2,  3,  4,  5],\n",
    "#  [ 7,  8,  9, 10, 11]]"
   ]
  },
  {
   "cell_type": "code",
   "execution_count": 13,
   "metadata": {},
   "outputs": [
    {
     "name": "stdout",
     "output_type": "stream",
     "text": [
      "int64\n",
      "int64\n",
      "int64\n",
      "int64\n"
     ]
    }
   ],
   "source": [
    "print(v1.dtype) # int64 \n",
    "print(v2.dtype) # int64\n",
    "print(m1.dtype) # int64\n",
    "print(m2.dtype) # int64"
   ]
  },
  {
   "cell_type": "code",
   "execution_count": 16,
   "metadata": {},
   "outputs": [],
   "source": [
    "v1 = np.array([1, 2, 3], dtype=np.int32) # = <1, 2, 3>\n",
    "v2 = np.array([1, 2, 3, 4, 5, 6, 7, 8, 9, 10], dtype=np.float32) # = <1, 2, 3, 4, 5 ,6, 7, 8, 9, 10>\n",
    "\n",
    "m1 = np.array([[1, 2, 3], [4, 5, 6]], dtype=np.float64) \n",
    "# [[1, 2, 3],\n",
    "#  [4, 5, 6]]\n",
    "\n",
    "m2 = np.array([[1, 2, 3, 4, 5], [7, 8, 9, 10, 11]], dtype=np.int16) \n",
    "# [[ 1,  2,  3,  4,  5],\n",
    "#  [ 7,  8,  9, 10, 11]]"
   ]
  },
  {
   "cell_type": "code",
   "execution_count": 24,
   "metadata": {},
   "outputs": [
    {
     "name": "stdout",
     "output_type": "stream",
     "text": [
      "int32\n",
      "float32\n",
      "float64\n",
      "int16\n"
     ]
    }
   ],
   "source": [
    "print(v1.dtype) # int32 \n",
    "print(v2.dtype) # float32\n",
    "print(m1.dtype) # flaot64\n",
    "print(m2.dtype) # int16"
   ]
  },
  {
   "cell_type": "code",
   "execution_count": 19,
   "metadata": {},
   "outputs": [
    {
     "name": "stdout",
     "output_type": "stream",
     "text": [
      "(3,)\n",
      "(10,)\n",
      "(2, 3)\n",
      "(2, 5)\n"
     ]
    }
   ],
   "source": [
    "print(v1.shape) # (3,)\n",
    "print(v2.shape) # (10,)\n",
    "print(m1.shape) # (2, 3)\n",
    "print(m2.shape) # (2, 5)"
   ]
  },
  {
   "cell_type": "code",
   "execution_count": 21,
   "metadata": {},
   "outputs": [
    {
     "name": "stdout",
     "output_type": "stream",
     "text": [
      "1\n",
      "1\n",
      "2\n",
      "2\n"
     ]
    }
   ],
   "source": [
    "print(v1.ndim) # 1\n",
    "print(v2.ndim) # 1\n",
    "print(m1.ndim) # 2\n",
    "print(m2.ndim) # 2"
   ]
  },
  {
   "cell_type": "code",
   "execution_count": 26,
   "metadata": {},
   "outputs": [
    {
     "name": "stdout",
     "output_type": "stream",
     "text": [
      "3\n",
      "10\n",
      "6\n",
      "10\n"
     ]
    }
   ],
   "source": [
    "print(v1.size) # 3\n",
    "print(v2.size) # 10\n",
    "print(m1.size) # 6\n",
    "print(m2.size) # 10"
   ]
  },
  {
   "cell_type": "code",
   "execution_count": 32,
   "metadata": {},
   "outputs": [],
   "source": [
    "z1 = np.zeros((10)) # [0. 0. 0. 0. 0. 0. 0. 0. 0. 0.]\n",
    "z2 = np.zeros((10, 20))\n",
    "# [[0. 0. 0. 0. 0. 0. 0. 0. 0. 0. 0. 0. 0. 0. 0. 0. 0. 0. 0. 0.]\n",
    "#  [0. 0. 0. 0. 0. 0. 0. 0. 0. 0. 0. 0. 0. 0. 0. 0. 0. 0. 0. 0.]\n",
    "#  [0. 0. 0. 0. 0. 0. 0. 0. 0. 0. 0. 0. 0. 0. 0. 0. 0. 0. 0. 0.]\n",
    "#  [0. 0. 0. 0. 0. 0. 0. 0. 0. 0. 0. 0. 0. 0. 0. 0. 0. 0. 0. 0.]\n",
    "#  [0. 0. 0. 0. 0. 0. 0. 0. 0. 0. 0. 0. 0. 0. 0. 0. 0. 0. 0. 0.]\n",
    "#  [0. 0. 0. 0. 0. 0. 0. 0. 0. 0. 0. 0. 0. 0. 0. 0. 0. 0. 0. 0.]\n",
    "#  [0. 0. 0. 0. 0. 0. 0. 0. 0. 0. 0. 0. 0. 0. 0. 0. 0. 0. 0. 0.]\n",
    "#  [0. 0. 0. 0. 0. 0. 0. 0. 0. 0. 0. 0. 0. 0. 0. 0. 0. 0. 0. 0.]\n",
    "#  [0. 0. 0. 0. 0. 0. 0. 0. 0. 0. 0. 0. 0. 0. 0. 0. 0. 0. 0. 0.]\n",
    "#  [0. 0. 0. 0. 0. 0. 0. 0. 0. 0. 0. 0. 0. 0. 0. 0. 0. 0. 0. 0.]]\n",
    "z3 = np.zeros_like(v1) # [0 0 0]\n",
    "z4 = np.zeros_like(m2)\n",
    "# [[0 0 0 0 0]\n",
    "#  [0 0 0 0 0]]"
   ]
  },
  {
   "cell_type": "code",
   "execution_count": 33,
   "metadata": {},
   "outputs": [
    {
     "name": "stdout",
     "output_type": "stream",
     "text": [
      "(10,)\n",
      "(10, 20)\n",
      "(3,)\n",
      "(2, 5)\n"
     ]
    }
   ],
   "source": [
    "print(z1.shape) # (10,)\n",
    "print(z2.shape) # (10, 20)\n",
    "print(z3.shape) # (3,)\n",
    "print(z4.shape) # (2, 5)"
   ]
  },
  {
   "cell_type": "code",
   "execution_count": 38,
   "metadata": {},
   "outputs": [],
   "source": [
    "o1 = np.ones((10)) # [1. 1. 1. 1. 1. 1. 1. 1. 1. 1.]\n",
    "o2 = np.ones((10, 20))\n",
    "# [[1. 1. 1. 1. 1. 1. 1. 1. 1. 1. 1. 1. 1. 1. 1. 1. 1. 1. 1. 1.]\n",
    "#  [1. 1. 1. 1. 1. 1. 1. 1. 1. 1. 1. 1. 1. 1. 1. 1. 1. 1. 1. 1.]\n",
    "#  [1. 1. 1. 1. 1. 1. 1. 1. 1. 1. 1. 1. 1. 1. 1. 1. 1. 1. 1. 1.]\n",
    "#  [1. 1. 1. 1. 1. 1. 1. 1. 1. 1. 1. 1. 1. 1. 1. 1. 1. 1. 1. 1.]\n",
    "#  [1. 1. 1. 1. 1. 1. 1. 1. 1. 1. 1. 1. 1. 1. 1. 1. 1. 1. 1. 1.]\n",
    "#  [1. 1. 1. 1. 1. 1. 1. 1. 1. 1. 1. 1. 1. 1. 1. 1. 1. 1. 1. 1.]\n",
    "#  [1. 1. 1. 1. 1. 1. 1. 1. 1. 1. 1. 1. 1. 1. 1. 1. 1. 1. 1. 1.]\n",
    "#  [1. 1. 1. 1. 1. 1. 1. 1. 1. 1. 1. 1. 1. 1. 1. 1. 1. 1. 1. 1.]\n",
    "#  [1. 1. 1. 1. 1. 1. 1. 1. 1. 1. 1. 1. 1. 1. 1. 1. 1. 1. 1. 1.]\n",
    "#  [1. 1. 1. 1. 1. 1. 1. 1. 1. 1. 1. 1. 1. 1. 1. 1. 1. 1. 1. 1.]]\n",
    "o3 = np.ones_like(v1) # [1 1 1]\n",
    "o4 = np.ones_like(m2)\n",
    "# [[1 1 1 1 1]\n",
    "#  [1 1 1 1 1]]"
   ]
  },
  {
   "cell_type": "code",
   "execution_count": 39,
   "metadata": {},
   "outputs": [
    {
     "name": "stdout",
     "output_type": "stream",
     "text": [
      "(10,)\n",
      "(10, 20)\n",
      "(3,)\n",
      "(2, 5)\n"
     ]
    }
   ],
   "source": [
    "print(o1.shape) # (10,)\n",
    "print(o2.shape) # (10, 20)\n",
    "print(o3.shape) # (3,)\n",
    "print(o4.shape) # (2, 5)"
   ]
  },
  {
   "cell_type": "code",
   "execution_count": 50,
   "metadata": {},
   "outputs": [],
   "source": [
    "f1 = np.full((10), 10) # [10 10 10 10 10 10 10 10 10 10]\n",
    "f2 = np.full((10, 20), 50)\n",
    "# [[50 50 50 50 50 50 50 50 50 50 50 50 50 50 50 50 50 50 50 50]\n",
    "#  [50 50 50 50 50 50 50 50 50 50 50 50 50 50 50 50 50 50 50 50]\n",
    "#  [50 50 50 50 50 50 50 50 50 50 50 50 50 50 50 50 50 50 50 50]\n",
    "#  [50 50 50 50 50 50 50 50 50 50 50 50 50 50 50 50 50 50 50 50]\n",
    "#  [50 50 50 50 50 50 50 50 50 50 50 50 50 50 50 50 50 50 50 50]\n",
    "#  [50 50 50 50 50 50 50 50 50 50 50 50 50 50 50 50 50 50 50 50]\n",
    "#  [50 50 50 50 50 50 50 50 50 50 50 50 50 50 50 50 50 50 50 50]\n",
    "#  [50 50 50 50 50 50 50 50 50 50 50 50 50 50 50 50 50 50 50 50]\n",
    "#  [50 50 50 50 50 50 50 50 50 50 50 50 50 50 50 50 50 50 50 50]\n",
    "#  [50 50 50 50 50 50 50 50 50 50 50 50 50 50 50 50 50 50 50 50]]\n",
    "f3 = np.full_like(v1, 54) # [54 54 54]\n",
    "f4 = np.full_like(m2, 12)\n",
    "# [[12 12 12 12 12]\n",
    "#  [12 12 12 12 12]]"
   ]
  },
  {
   "cell_type": "code",
   "execution_count": 47,
   "metadata": {},
   "outputs": [
    {
     "name": "stdout",
     "output_type": "stream",
     "text": [
      "(10,)\n",
      "(10, 20)\n",
      "(3,)\n",
      "(2, 5)\n"
     ]
    }
   ],
   "source": [
    "print(f1.shape) # (10,)\n",
    "print(f2.shape) # (10, 20)\n",
    "print(f3.shape) # (3,)\n",
    "print(f4.shape) # (2, 5)"
   ]
  },
  {
   "cell_type": "code",
   "execution_count": 67,
   "metadata": {},
   "outputs": [],
   "source": [
    "# np.arange(start(default=0), end, step, dtype)\n",
    "ar1 = np.arange(10) # [0 1 2 3 4 5 6 7 8 9]\n",
    "ar2 = np.arange(5, 10) # [5 6 7 8 9]\n",
    "ar3 = np.arange(1, 10, 2) # [1 3 5 7 9]"
   ]
  },
  {
   "cell_type": "code",
   "execution_count": 68,
   "metadata": {},
   "outputs": [],
   "source": [
    "arm1 = np.arange(10).reshape(2, 5) \n",
    "# [[0 1 2 3 4]\n",
    "#  [5 6 7 8 9]]\n",
    "arm2 = np.arange(5, 10).reshape(1, 5) # [[5 6 7 8 9]]\n",
    "arm3 = np.arange(1, 10, 2).reshape(5, 1) \n",
    "# [[1]\n",
    "#  [3]\n",
    "#  [5]\n",
    "#  [7]\n",
    "#  [9]]"
   ]
  },
  {
   "cell_type": "code",
   "execution_count": 73,
   "metadata": {},
   "outputs": [
    {
     "name": "stdout",
     "output_type": "stream",
     "text": [
      "(2, 5)\n",
      "(1, 5)\n",
      "(5, 1)\n"
     ]
    }
   ],
   "source": [
    "print(arm1.shape) # (2, 5)\n",
    "print(arm2.shape) # (1, 5)\n",
    "print(arm3.shape) # (5, 1)"
   ]
  },
  {
   "cell_type": "code",
   "execution_count": 85,
   "metadata": {},
   "outputs": [
    {
     "ename": "ValueError",
     "evalue": "cannot reshape array of size 10 into shape (1,5)",
     "output_type": "error",
     "traceback": [
      "\u001b[0;31m---------------------------------------------------------------------------\u001b[0m",
      "\u001b[0;31mValueError\u001b[0m                                Traceback (most recent call last)",
      "\u001b[0;32m<ipython-input-85-4b93c156c0b0>\u001b[0m in \u001b[0;36m<module>\u001b[0;34m\u001b[0m\n\u001b[0;32m----> 1\u001b[0;31m \u001b[0marm1\u001b[0m \u001b[0;34m=\u001b[0m \u001b[0mnp\u001b[0m\u001b[0;34m.\u001b[0m\u001b[0marange\u001b[0m\u001b[0;34m(\u001b[0m\u001b[0;36m10\u001b[0m\u001b[0;34m)\u001b[0m\u001b[0;34m.\u001b[0m\u001b[0mreshape\u001b[0m\u001b[0;34m(\u001b[0m\u001b[0;36m1\u001b[0m\u001b[0;34m,\u001b[0m \u001b[0;36m5\u001b[0m\u001b[0;34m)\u001b[0m\u001b[0;34m\u001b[0m\u001b[0;34m\u001b[0m\u001b[0m\n\u001b[0m",
      "\u001b[0;31mValueError\u001b[0m: cannot reshape array of size 10 into shape (1,5)"
     ]
    }
   ],
   "source": [
    "arm4 = np.arange(10).reshape(1, 5)"
   ]
  },
  {
   "cell_type": "code",
   "execution_count": 82,
   "metadata": {},
   "outputs": [],
   "source": [
    "# np.linspace(start, end, size)\n",
    "li1 = np.linspace(0, 2, 9) # [0.   0.25 0.5  0.75 1.   1.25 1.5  1.75 2.  ]\n",
    "li2 = np.linspace(-10, 20, 10)\n",
    "# [-10.          -6.66666667  -3.33333333   0.           3.33333333\n",
    "#    6.66666667  10.          13.33333333  16.66666667  20.        ]\n",
    "li3 = np.linspace(100, 10000, 20)\n",
    "# [  100.           621.05263158  1142.10526316  1663.15789474\n",
    "#   2184.21052632  2705.26315789  3226.31578947  3747.36842105\n",
    "#   4268.42105263  4789.47368421  5310.52631579  5831.57894737\n",
    "#   6352.63157895  6873.68421053  7394.73684211  7915.78947368\n",
    "#   8436.84210526  8957.89473684  9478.94736842 10000.        ]"
   ]
  },
  {
   "cell_type": "code",
   "execution_count": 84,
   "metadata": {},
   "outputs": [
    {
     "name": "stdout",
     "output_type": "stream",
     "text": [
      "(9,)\n",
      "(10,)\n",
      "(20,)\n"
     ]
    }
   ],
   "source": [
    "print(li1.shape) # (9,)\n",
    "print(li2.shape) # (10,)\n",
    "print(li3.shape) # (20,)"
   ]
  },
  {
   "cell_type": "code",
   "execution_count": 10,
   "metadata": {},
   "outputs": [
    {
     "name": "stdout",
     "output_type": "stream",
     "text": [
      "[[0.76780499 0.5034189  0.22054008 0.22579492 0.10348747]\n",
      " [0.10452716 0.7722156  0.55785404 0.9441642  0.88994367]]\n",
      "[[0.8298528  0.2197327  0.67647234 0.75035607 0.33147988]\n",
      " [0.59426982 0.03710878 0.44383492 0.99378208 0.94302622]\n",
      " [0.00248727 0.81223781 0.77232554 0.40819946 0.12575967]\n",
      " [0.31897483 0.68843688 0.44423149 0.69565567 0.38506649]\n",
      " [0.35955457 0.03522995 0.46552198 0.76180739 0.52422641]]\n",
      "[0.68021948 0.12232238 0.04293131 0.34542005 0.24464087 0.56450554\n",
      " 0.52606009 0.79392814]\n"
     ]
    }
   ],
   "source": [
    "# 값이 다를 수 있습니다.\n",
    "r1 = np.random.rand(2, 5)\n",
    "r2 = np.random.rand(5, 5)\n",
    "r3 = np.random.rand(8)\n",
    "\n",
    "print(r1)\n",
    "# [[0.57614483 0.73063258 0.27246055 0.21661481 0.08877755]\n",
    "#  [0.41265303 0.67935852 0.38921903 0.66649004 0.47586199]]\n",
    "print(r2)\n",
    "# [[0.07353442 0.3770628  0.06070803 0.10123741 0.63826632]\n",
    "#  [0.98591366 0.99821502 0.4428011  0.01528441 0.7924465 ]\n",
    "#  [0.42231836 0.79382126 0.62384548 0.7091891  0.43492582]\n",
    "#  [0.653554   0.80376989 0.11360542 0.39434994 0.34881749]\n",
    "#  [0.72407747 0.66944767 0.39421464 0.25446252 0.91609148]]\n",
    "print(r3)\n",
    "# [0.08064439 0.38030084 0.7269083  0.81481334 0.3170198  0.35690691  0.36763132 0.88280171]"
   ]
  },
  {
   "cell_type": "code",
   "execution_count": 18,
   "metadata": {},
   "outputs": [
    {
     "name": "stdout",
     "output_type": "stream",
     "text": [
      "[[0.37454012 0.95071431 0.73199394 0.59865848 0.15601864]\n",
      " [0.15599452 0.05808361 0.86617615 0.60111501 0.70807258]]\n",
      "[[0.02058449 0.96990985 0.83244264 0.21233911 0.18182497]\n",
      " [0.18340451 0.30424224 0.52475643 0.43194502 0.29122914]\n",
      " [0.61185289 0.13949386 0.29214465 0.36636184 0.45606998]\n",
      " [0.78517596 0.19967378 0.51423444 0.59241457 0.04645041]\n",
      " [0.60754485 0.17052412 0.06505159 0.94888554 0.96563203]]\n",
      "[0.80839735 0.30461377 0.09767211 0.68423303 0.44015249 0.12203823\n",
      " 0.49517691 0.03438852]\n"
     ]
    }
   ],
   "source": [
    "np.random.seed(42)\n",
    "\n",
    "r4 = np.random.rand(2, 5)\n",
    "r5 = np.random.rand(5, 5)\n",
    "r6 = np.random.rand(8)\n",
    "\n",
    "print(r4)\n",
    "# [[0.37454012 0.95071431 0.73199394 0.59865848 0.15601864]\n",
    "#  [0.15599452 0.05808361 0.86617615 0.60111501 0.70807258]]\n",
    "print(r5)\n",
    "# [[0.02058449 0.96990985 0.83244264 0.21233911 0.18182497]\n",
    "#  [0.18340451 0.30424224 0.52475643 0.43194502 0.29122914]\n",
    "#  [0.61185289 0.13949386 0.29214465 0.36636184 0.45606998]\n",
    "#  [0.78517596 0.19967378 0.51423444 0.59241457 0.04645041]\n",
    "#  [0.60754485 0.17052412 0.06505159 0.94888554 0.96563203]]\n",
    "print(r6)\n",
    "# [0.80839735 0.30461377 0.09767211 0.68423303 0.44015249 0.12203823 0.49517691 0.03438852]"
   ]
  },
  {
   "cell_type": "code",
   "execution_count": 23,
   "metadata": {},
   "outputs": [
    {
     "name": "stdout",
     "output_type": "stream",
     "text": [
      "[4 2 7 5 2]\n",
      "[10 12 14 12 10]\n",
      "[4 9 6 6 8 9 9 2]\n"
     ]
    }
   ],
   "source": [
    "# 값이 다를 수 있습니다.\n",
    "ri1 = np.random.randint(0, 10, 5)\n",
    "ri2 = np.random.randint(10, 20, 5)\n",
    "ri3 = np.random.randint(0, 10, 8)\n",
    "\n",
    "print(ri1)\n",
    "# [0 3 1 7 3]\n",
    "print(ri2)\n",
    "# [11 15 15 19 13]\n",
    "print(ri3)\n",
    "# [5 1 9 1 9 3 7 6]"
   ]
  },
  {
   "cell_type": "code",
   "execution_count": 30,
   "metadata": {},
   "outputs": [
    {
     "name": "stdout",
     "output_type": "stream",
     "text": [
      "[6 3 7 4 6]\n",
      "[19 12 16 17 14]\n",
      "[3 7 7 2 5 4 1 7]\n"
     ]
    }
   ],
   "source": [
    "np.random.seed(42)\n",
    "\n",
    "ri4 = np.random.randint(0, 10, 5)\n",
    "ri5 = np.random.randint(10, 20, 5)\n",
    "ri6 = np.random.randint(0, 10, 8)\n",
    "\n",
    "print(ri4)\n",
    "# [6 3 7 4 6]\n",
    "print(ri5)\n",
    "# [19 12 16 17 14]\n",
    "print(ri6)\n",
    "# [3 7 7 2 5 4 1 7]"
   ]
  },
  {
   "cell_type": "code",
   "execution_count": null,
   "metadata": {},
   "outputs": [],
   "source": []
  }
 ],
 "metadata": {
  "kernelspec": {
   "display_name": "Python 3",
   "language": "python",
   "name": "python3"
  },
  "language_info": {
   "codemirror_mode": {
    "name": "ipython",
    "version": 3
   },
   "file_extension": ".py",
   "mimetype": "text/x-python",
   "name": "python",
   "nbconvert_exporter": "python",
   "pygments_lexer": "ipython3",
   "version": "3.7.6"
  }
 },
 "nbformat": 4,
 "nbformat_minor": 4
}
